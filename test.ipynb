{
 "cells": [
  {
   "cell_type": "markdown",
   "metadata": {},
   "source": [
    "---\n",
    "### Load Games\n",
    "---"
   ]
  },
  {
   "cell_type": "code",
   "execution_count": 3,
   "metadata": {},
   "outputs": [
    {
     "ename": "ModuleNotFoundError",
     "evalue": "No module named 'pinsdb'",
     "output_type": "error",
     "traceback": [
      "\u001b[0;31m---------------------------------------------------------------------------\u001b[0m",
      "\u001b[0;31mModuleNotFoundError\u001b[0m                       Traceback (most recent call last)",
      "Cell \u001b[0;32mIn[3], line 4\u001b[0m\n\u001b[1;32m      1\u001b[0m \u001b[38;5;28;01mimport\u001b[39;00m \u001b[38;5;21;01mattrs\u001b[39;00m\n\u001b[1;32m      2\u001b[0m \u001b[38;5;28;01mfrom\u001b[39;00m \u001b[38;5;21;01mattrs\u001b[39;00m \u001b[38;5;28;01mimport\u001b[39;00m define, field\n\u001b[0;32m----> 4\u001b[0m \u001b[38;5;28;01mfrom\u001b[39;00m \u001b[38;5;21;01mpinsdb\u001b[39;00m\u001b[38;5;21;01m.\u001b[39;00m\u001b[38;5;21;01mbowl\u001b[39;00m\u001b[38;5;21;01m.\u001b[39;00m\u001b[38;5;21;01mmodels\u001b[39;00m \u001b[38;5;28;01mimport\u001b[39;00m Frame, Game\n",
      "\u001b[0;31mModuleNotFoundError\u001b[0m: No module named 'pinsdb'"
     ]
    }
   ],
   "source": [
    "import attrs\n",
    "from attrs import define, field\n",
    "\n",
    "from pinsdb.bowl.models import Frame, Game"
   ]
  },
  {
   "cell_type": "code",
   "execution_count": null,
   "metadata": {},
   "outputs": [],
   "source": [
    "all_games = Game.load_games()"
   ]
  },
  {
   "cell_type": "code",
   "execution_count": null,
   "metadata": {},
   "outputs": [],
   "source": [
    "# for game in games:\n",
    "#     print(f\"{game.bowler.bowler_id=}  {game.game_id=} | {game.score_game()}\")\n",
    "#     print(game.construct_frames())"
   ]
  },
  {
   "cell_type": "markdown",
   "metadata": {},
   "source": [
    "---\n",
    "### Reconcile Bowler IDs\n",
    "---"
   ]
  },
  {
   "cell_type": "markdown",
   "metadata": {},
   "source": [
    "---\n",
    "### Plot Visuals\n",
    "---"
   ]
  },
  {
   "cell_type": "markdown",
   "metadata": {},
   "source": [
    "#### Summarize DataFrame"
   ]
  },
  {
   "cell_type": "code",
   "execution_count": null,
   "metadata": {},
   "outputs": [],
   "source": [
    "import seaborn as sns\n",
    "import polars as pl\n",
    "import matplotlib.pyplot as plt\n",
    "sns.set_theme(style=\"white\", rc={\"axes.facecolor\": (0, 0, 0, 0)})\n",
    "\n",
    "\n",
    "sample_data = pl.DataFrame([\n",
    "    {\n",
    "        \"game_id\": game.game_id,\n",
    "        \"bowler_id\": game.bowler.bowler_id,\n",
    "        \"score\": game.score_game(),\n",
    "        \"pins\": game.score_pins(),\n",
    "        \"date\": game.date\n",
    "    }\n",
    "    for game in all_games\n",
    "])"
   ]
  },
  {
   "cell_type": "markdown",
   "metadata": {},
   "source": [
    "#### Score Dominance"
   ]
  },
  {
   "cell_type": "code",
   "execution_count": null,
   "metadata": {},
   "outputs": [],
   "source": [
    "sns.displot(\n",
    "    sample_data,\n",
    "    x=\"score\",\n",
    "    hue=\"bowler_id\",\n",
    "    kind=\"kde\",\n",
    "    multiple=\"fill\"\n",
    ")"
   ]
  },
  {
   "cell_type": "code",
   "execution_count": null,
   "metadata": {},
   "outputs": [],
   "source": [
    "sns.displot(\n",
    "    sample_data,\n",
    "    x=\"score\",\n",
    "    hue=\"bowler_id\",\n",
    "    kind=\"hist\",\n",
    "    multiple=\"fill\"\n",
    ")"
   ]
  },
  {
   "cell_type": "code",
   "execution_count": null,
   "metadata": {},
   "outputs": [],
   "source": [
    "sns.displot(\n",
    "    sample_data,\n",
    "    x=\"score\",\n",
    "    hue=\"bowler_id\",\n",
    "    stat=\"count\",\n",
    "    kind=\"ecdf\"\n",
    ")"
   ]
  },
  {
   "cell_type": "markdown",
   "metadata": {},
   "source": [
    "#### Score Variance\n",
    "---"
   ]
  },
  {
   "cell_type": "code",
   "execution_count": null,
   "metadata": {},
   "outputs": [],
   "source": [
    "from pinsdb.bowl.bowlers import registered_bowlers\n",
    "\n",
    "palette = sns.color_palette(\"magma\", n_colors=len(registered_bowlers))\n",
    "sns.set_theme(style=\"darkgrid\", palette=palette)\n",
    "\n",
    "sns.boxplot(sample_data, x=\"score\", y=\"bowler_id\", hue=\"bowler_id\", palette=palette)\n",
    "sns.stripplot(sample_data, x=\"score\", y=\"bowler_id\", color=\".3\", jitter=0)"
   ]
  },
  {
   "cell_type": "markdown",
   "metadata": {},
   "source": [
    "#### Pins Ordering"
   ]
  },
  {
   "cell_type": "code",
   "execution_count": null,
   "metadata": {},
   "outputs": [],
   "source": [
    "import pandas as pd\n",
    "import numpy as np\n",
    "\n",
    "\n",
    "for bowler in registered_bowlers[6:7]:\n",
    "    print(f\"HEATMAP FOR {bowler.bowler_id.upper()}\")\n",
    "    throws_data = pd.DataFrame([\n",
    "        {\n",
    "            \"game_id\": game.game_id,\n",
    "            \"bowler_id\": game.bowler.bowler_id,\n",
    "            \"frames\": game.construct_frames()[:9],\n",
    "        }\n",
    "        for game in all_games\n",
    "        if game.bowler.bowler_id == bowler.bowler_id\n",
    "    ])\n",
    "    throws_data = throws_data.explode(\"frames\")\n",
    "    throws_data[[\"first_throw\", \"second_throw\"]] = [throw + [0] if throw == [10] else throw[:2]  for throw in throws_data[\"frames\"].to_list()]\n",
    "    # throws_frequency = pd.DataFrame(throws_data['frames'].value_counts()).reset_index()\n",
    "\n",
    "    throws_crosstab = pd.crosstab(throws_data[\"second_throw\"], throws_data[\"first_throw\"])\n",
    "    sns.heatmap(throws_crosstab)\n",
    "    break"
   ]
  },
  {
   "cell_type": "markdown",
   "metadata": {},
   "source": [
    "#### Ridge Graph"
   ]
  },
  {
   "cell_type": "code",
   "execution_count": null,
   "metadata": {},
   "outputs": [],
   "source": [
    "pal = sns.cubehelix_palette(10, rot=-.25, light=.7)\n",
    "ridge_graph = sns.FacetGrid(sample_data, row=\"bowler_id\", hue=\"bowler_id\", aspect=15, height=0.5, palette=pal)\n",
    "ridge_graph.map(\n",
    "    sns.kdeplot,\n",
    "    \"score\",\n",
    "    bw_adjust=0.5,\n",
    "    clip_on=False,\n",
    "    fill=True,\n",
    "    alpha=1,\n",
    "    linewidth=1.5\n",
    ")\n",
    "ridge_graph.map(\n",
    "    sns.kdeplot,\n",
    "    \"score\",\n",
    "    clip_on=False,\n",
    "    color=\"w\",\n",
    "    lw=2,\n",
    "    bw_adjust=.5\n",
    ")\n",
    "ridge_graph.refline(y=0, linewidth=2, linestyle=\"-\", color=None, clip_on=False)\n",
    "\n",
    "\n",
    "# Define and use a simple function to label the plot in axes coordinates\n",
    "def label(x, color, label):\n",
    "    ax = plt.gca()\n",
    "    ax.text(0, .2, label, fontweight=\"bold\", color=color,\n",
    "            ha=\"left\", va=\"center\", transform=ax.transAxes)\n",
    "\n",
    "\n",
    "ridge_graph.map(label, \"score\")\n",
    "\n",
    "# Set the subplots to overlap\n",
    "ridge_graph.figure.subplots_adjust(hspace=-.05)\n",
    "\n",
    "# Remove axes details that don't play well with overlap\n",
    "ridge_graph.set_titles(\"\")\n",
    "ridge_graph.set(yticks=[], ylabel=\"\")\n",
    "ridge_graph.despine(bottom=True, left=True)\n"
   ]
  },
  {
   "cell_type": "code",
   "execution_count": null,
   "metadata": {},
   "outputs": [],
   "source": [
    "import itertools\n",
    "import statistics\n",
    "\n",
    "games_sorted = sorted(all_games, key=lambda g: (g.bowler.bowler_id, g.date, g.game_id))\n",
    "games_stats = dict()\n",
    "\n",
    "for group, games in itertools.groupby(games_sorted, key=lambda g: g.bowler.bowler_id):\n",
    "    games = list(games)\n",
    "    total_pins = [game.score_pins() for game in games]\n",
    "    total_points = [game.score_game() for game in games]\n",
    "    stats = {\n",
    "        \"games\": len(games),\n",
    "        \"total_pins\": sum([len(game.construct_frames()) * 10 for game in games]),\n",
    "        \"pins\": sum(total_pins),\n",
    "        \"points\": sum(total_points),\n",
    "        \"mean_pins\": round(statistics.mean(total_pins), 1),\n",
    "        \"mean_points\": round(statistics.mean(total_points), 1),\n",
    "        \"median_pins\": statistics.median(total_pins),\n",
    "        \"median_points\": statistics.median(total_points)\n",
    "    }\n",
    "    stats[\"pct_pins\"] = round((stats[\"pins\"] / stats[\"total_pins\"]) * 100, 1)\n",
    "    games_stats[group] = (\n",
    "        pl.DataFrame(stats)\n",
    "        .unpivot()\n",
    "        .with_columns(bowler=pl.lit(group))\n",
    "        .select(\"bowler\", \"variable\", \"value\")\n",
    "    )\n",
    "\n",
    "games_data = pl.concat(games_stats.values())"
   ]
  },
  {
   "cell_type": "code",
   "execution_count": null,
   "metadata": {},
   "outputs": [],
   "source": [
    "g = sns.barplot(games_data.filter(pl.col(\"variable\").is_in([\"total_pins\", \"pins\", \"points\"])), x=\"variable\", y=\"value\", hue=\"bowler\")\n",
    "sns.move_legend(g, \"lower center\", bbox_to_anchor=(.5, 1), ncol=len(registered_bowlers), title=None)"
   ]
  },
  {
   "cell_type": "code",
   "execution_count": null,
   "metadata": {},
   "outputs": [],
   "source": [
    "g = sns.barplot(games_data.filter(~pl.col(\"variable\").is_in([\"total_pins\", \"pins\", \"points\"])), x=\"variable\", y=\"value\", hue=\"bowler\")\n",
    "sns.move_legend(g, \"lower center\", bbox_to_anchor=(.5, 1), ncol=len(registered_bowlers), title=None)"
   ]
  },
  {
   "cell_type": "markdown",
   "metadata": {},
   "source": [
    "#### Score Over Time"
   ]
  },
  {
   "cell_type": "code",
   "execution_count": null,
   "metadata": {},
   "outputs": [],
   "source": [
    "strip_data = (\n",
    "    sample_data\n",
    "    .group_by(\"bowler_id\")\n",
    "    .agg(\n",
    "        max_score=pl.col(\"score\").max(),\n",
    "        min_score=pl.col(\"score\").min(),\n",
    "        # max_pins=pl.col(\"pins\").max(),\n",
    "        # min_pins=pl.col(\"pins\").min(),\n",
    "    )\n",
    "    .unpivot(index=\"bowler_id\")\n",
    "    .sort(\"value\", descending=True)\n",
    ")\n",
    "\n",
    "sns.pointplot(\n",
    "    strip_data,\n",
    "    x=\"value\",\n",
    "    y=\"bowler_id\",\n",
    "    hue=\"bowler_id\",\n",
    "    estimator='max'\n",
    ")\n",
    "sns.stripplot(\n",
    "    strip_data,\n",
    "    x=\"value\",\n",
    "    y=\"bowler_id\",\n",
    "    hue=\"bowler_id\",\n",
    "    jitter=0,\n",
    ")"
   ]
  },
  {
   "cell_type": "code",
   "execution_count": null,
   "metadata": {},
   "outputs": [],
   "source": [
    "g = sns.relplot(sample_data, x=\"date\", y=\"score\", hue=\"bowler_id\", kind=\"line\")\n",
    "sns.move_legend(g, \"lower center\", bbox_to_anchor=(.5, 1), ncol=len(registered_bowlers), title=None)"
   ]
  }
 ],
 "metadata": {
  "kernelspec": {
   "display_name": "Python 3",
   "language": "python",
   "name": "python3"
  },
  "language_info": {
   "codemirror_mode": {
    "name": "ipython",
    "version": 3
   },
   "file_extension": ".py",
   "mimetype": "text/x-python",
   "name": "python",
   "nbconvert_exporter": "python",
   "pygments_lexer": "ipython3",
   "version": "3.10.7"
  }
 },
 "nbformat": 4,
 "nbformat_minor": 2
}
